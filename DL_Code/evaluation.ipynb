{
 "cells": [
  {
   "cell_type": "code",
   "execution_count": 1,
   "metadata": {},
   "outputs": [],
   "source": [
    "import torch\n",
    "import torch.nn\n",
    "import numpy as np\n",
    "from sklearn.metrics import accuracy_score\n",
    "from imblearn.metrics import sensitivity_specificity_support\n",
    "import seaborn as sns\n",
    "import matplotlib.pyplot as plt\n",
    "\n",
    "from model import FCL_Model\n",
    "\n",
    "from utils import load_dataset\n",
    "from utils import split_data\n",
    "from utils import get_hidden_sizes\n",
    "\n",
    "from sklearn.metrics import roc_curve\n",
    "from sklearn.metrics import RocCurveDisplay\n",
    "from sklearn.metrics import precision_recall_curve\n",
    "from sklearn.metrics import PrecisionRecallDisplay\n",
    "from sklearn.metrics import roc_auc_score"
   ]
  },
  {
   "cell_type": "code",
   "execution_count": 2,
   "metadata": {},
   "outputs": [],
   "source": [
    "model_fn = \"./test.pth\""
   ]
  },
  {
   "cell_type": "code",
   "execution_count": 3,
   "metadata": {},
   "outputs": [],
   "source": [
    "device = torch.device('cuda') if torch.cuda.is_available() else torch.device('cpu')"
   ]
  },
  {
   "cell_type": "code",
   "execution_count": 4,
   "metadata": {},
   "outputs": [],
   "source": [
    "def load(fn, device):\n",
    "    d = torch.load(fn, map_location=device)\n",
    "    \n",
    "    return d['model'], d['config']\n",
    "\n",
    "def adjusted_r2(yhat, y):\n",
    "    SS_Residual = sum((y-yhat)**2)\n",
    "    SS_Total = sum((y-np.mean(y))**2)\n",
    "    r_squared = 1 - (float(SS_Residual))/SS_Total\n",
    "    adjusted_r_squared = 1 - (1-r_squared)*(len(y)-1)/(len(y)-x.shape[1]-1)\n",
    "    return adjusted_r_squared\n",
    "\n",
    "def plot_balnd_altman(y_hat, y):\n",
    "    \n",
    "    f, ax = plt.subplots(1, figsize = (10, 10))\n",
    "    sm.graphics.mean_diff_plot(y_hat, y, ax = ax)\n",
    "    plt.show()\n",
    "    \n",
    "    return None\n",
    "\n",
    "def plot_asym(y_hat, y):\n",
    "\n",
    "    plt.figure(figsize=(10, 10))\n",
    "    plt.scatter(y=y_hat, x=y)\n",
    "    plt.show()\n",
    "\n",
    "    return None\n",
    "\n",
    "def plot_roc_prc(y_hat, y):\n",
    "    fpr, tpr, _ = roc_curve(y, y_hat, pos_label=1)\n",
    "    roc_display = RocCurveDisplay(fpr=fpr, tpr=tpr)\n",
    "    \n",
    "    prec, recall, _ = precision_recall_curve(y, y_hat, pos_label=1)\n",
    "    pr_display = PrecisionRecallDisplay(precision=prec, recall=recall)\n",
    "    \n",
    "    fig, (ax1, ax2) = plt.subplots(1, 2, figsize=(20, 10))\n",
    "\n",
    "    roc_display.plot(ax=ax1)\n",
    "    pr_display.plot(ax=ax2)\n",
    "    plt.show()\n",
    "\n",
    "    "
   ]
  },
  {
   "cell_type": "code",
   "execution_count": 5,
   "metadata": {},
   "outputs": [],
   "source": [
    "def test(model, x, y):\n",
    "    model.eval()\n",
    "    \n",
    "    with torch.no_grad():\n",
    "        y_hat = model(x).to(torch.device('cpu')).numpy().reshape(-1, 1)\n",
    "        y = y.to(torch.device('cpu')).numpy().reshape(-1, 1)\n",
    "        \n",
    "        accuracy = accuracy_score(y_pred=(y_hat > 0.5), y_true=y)\n",
    "        sensitivity, specificity, _ = sensitivity_specificity_support(y_true=y, y_pred=(y_hat > 0.5), average='binary')\n",
    "\n",
    "        print(\"Accuracy: {}\".format(accuracy))\n",
    "        print(\"Sensitivity: {}\".format(sensitivity))\n",
    "        print(\"Specificity: {}\".format(specificity))\n",
    "        print(\"AUROC: {}\".format(roc_auc_score(y, y_hat)))\n",
    "        \n",
    "        plot_roc_prc(y_hat, y)"
   ]
  },
  {
   "cell_type": "code",
   "execution_count": 6,
   "metadata": {},
   "outputs": [
    {
     "name": "stdout",
     "output_type": "stream",
     "text": [
      "Accuracy: 0.881578947368421\n",
      "Sensitivity: 0.7413793103448276\n",
      "Specificity: 0.9680851063829787\n",
      "AUROC: 0.9361702127659574\n"
     ]
    },
    {
     "data": {
      "image/png": "[encoded data removed]",
      "text/plain": [
       "<Figure size 1440x720 with 2 Axes>"
      ]
     },
     "metadata": {
      "needs_background": "light"
     },
     "output_type": "display_data"
    }
   ],
   "source": [
    "# Load MNIST test set.\n",
    "x, y = load_dataset()\n",
    "x, y = split_data(x, y, train_ratio=0.8, device=device)\n",
    "# Reshape tensor to chunk of 1-d vectors.\n",
    "x = x[1]\n",
    "y = y[1]\n",
    "\n",
    "input_size = int(x.shape[-1])\n",
    "output_size = 1\n",
    "\n",
    "model_dict, train_config = load(model_fn, device)\n",
    "\n",
    "model = FCL_Model(\n",
    "    input_size=input_size,\n",
    "    output_size=output_size,\n",
    "    hidden_sizes=get_hidden_sizes(input_size, output_size,\n",
    "                                      train_config.n_layers,\n",
    "                                      train_config.n_node_first_hidden),\n",
    "    use_batch_norm=not train_config.use_dropout,\n",
    "    dropout_p=train_config.dropout_p,\n",
    ").to(device)\n",
    "\n",
    "model.load_state_dict(model_dict)\n",
    "\n",
    "test(model, x, y)"
   ]
  }
 ],
 "metadata": {
  "interpreter": {
   "hash": "14b8ef57b780aab45c377846776142eed021f42ace1362aba6dec9aab38f012a"
  },
  "kernelspec": {
   "display_name": "Python 3",
   "language": "python",
   "name": "python3"
  },
  "language_info": {
   "codemirror_mode": {
    "name": "ipython",
    "version": 3
   },
   "file_extension": ".py",
   "mimetype": "text/x-python",
   "name": "python",
   "nbconvert_exporter": "python",
   "pygments_lexer": "ipython3",
   "version": "3.8.5"
  }
 },
 "nbformat": 4,
 "nbformat_minor": 4
}
