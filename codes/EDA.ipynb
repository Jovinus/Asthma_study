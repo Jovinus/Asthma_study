{
 "cells": [
  {
   "cell_type": "code",
   "execution_count": null,
   "source": [
    "import pandas as pd\n",
    "from IPython.display import display\n",
    "import matplotlib.pyplot as plt\n",
    "pd.set_option(\"display.max_columns\", None)"
   ],
   "outputs": [],
   "metadata": {}
  },
  {
   "cell_type": "code",
   "execution_count": null,
   "source": [
    "df_orig = pd.read_excel('../data/20210709.xls')\n",
    "df_orig.head()"
   ],
   "outputs": [],
   "metadata": {}
  },
  {
   "cell_type": "code",
   "execution_count": null,
   "source": [
    "df_orig['BMI'] = df_orig['체중_kg'] / (df_orig['키_m']**2)"
   ],
   "outputs": [],
   "metadata": {}
  },
  {
   "cell_type": "code",
   "execution_count": null,
   "source": [
    "null_percent = (df_orig.isnull().sum()/len(df_orig)).reset_index(name='null_percent').T\n",
    "null_percent.columns = null_percent.loc['index']\n",
    "null_percent.drop(index='index')"
   ],
   "outputs": [],
   "metadata": {}
  },
  {
   "cell_type": "markdown",
   "source": [
    "## EDA"
   ],
   "metadata": {}
  },
  {
   "cell_type": "code",
   "execution_count": null,
   "source": [
    "df_orig['asthma'].value_counts(normalize=True)"
   ],
   "outputs": [],
   "metadata": {}
  },
  {
   "cell_type": "code",
   "execution_count": null,
   "source": [
    "df_subset = df_orig.sort_values('date').groupby('ID').head(1).reset_index(drop=True)"
   ],
   "outputs": [],
   "metadata": {}
  },
  {
   "cell_type": "code",
   "execution_count": null,
   "source": [
    "df_orig.columns"
   ],
   "outputs": [],
   "metadata": {}
  },
  {
   "cell_type": "code",
   "execution_count": null,
   "source": [
    "selected_feature = ['age', 'sex', 'Squamouscell', 'Marcrophage',\n",
    "                    'Neutrophil', 'sp_eosinophil', 'Other', 'Epithelialcell', 'salineFVC', '80%FEV1', 'PC20_mgpml', 'maxFall_FEV1_percent', \n",
    "                    'FeNO', 'dyspnea', 'cough', 'wheezing', 'rhinitis', 'smoking', 'IgE', 'FEV1_0_percent', 'FVC_afterMBPT', 'FEV1_afterMBPT', \n",
    "                    'FEF2575_afterMBPT', 'FEV1_FVC_0', 'Bl_eos_count', 'BMI', 'mbpt', 'asthma']"
   ],
   "outputs": [],
   "metadata": {}
  },
  {
   "cell_type": "code",
   "execution_count": null,
   "source": [
    "df_subset[selected_feature]"
   ],
   "outputs": [],
   "metadata": {}
  },
  {
   "cell_type": "code",
   "execution_count": null,
   "source": [
    "dataset = df_subset[selected_feature]\n",
    "dataset.info()"
   ],
   "outputs": [],
   "metadata": {}
  },
  {
   "cell_type": "code",
   "execution_count": null,
   "source": [
    "dataset['sex'] = dataset['sex'].map({\"M\":0, \"F\":1})"
   ],
   "outputs": [],
   "metadata": {}
  },
  {
   "cell_type": "code",
   "execution_count": null,
   "source": [
    "from sklearn.model_selection import train_test_split\n",
    "trainset, testset = train_test_split(dataset, train_size=0.8)"
   ],
   "outputs": [],
   "metadata": {}
  },
  {
   "cell_type": "code",
   "execution_count": null,
   "source": [
    "from xgboost import XGBClassifier\n",
    "\n",
    "xg_clf = XGBClassifier(gpu_id=0, max_depth=3, n_estimators=3, learning_rate=0.5, enable_categorical=True)\n",
    "xg_clf.fit(trainset.drop(columns=['asthma']), trainset['asthma'])"
   ],
   "outputs": [],
   "metadata": {}
  },
  {
   "cell_type": "code",
   "execution_count": null,
   "source": [],
   "outputs": [],
   "metadata": {}
  }
 ],
 "metadata": {
  "kernelspec": {
   "display_name": "Python 3",
   "language": "python",
   "name": "python3"
  },
  "language_info": {
   "codemirror_mode": {
    "name": "ipython",
    "version": 3
   },
   "file_extension": ".py",
   "mimetype": "text/x-python",
   "name": "python",
   "nbconvert_exporter": "python",
   "pygments_lexer": "ipython3",
   "version": "3.8.5"
  }
 },
 "nbformat": 4,
 "nbformat_minor": 4
}